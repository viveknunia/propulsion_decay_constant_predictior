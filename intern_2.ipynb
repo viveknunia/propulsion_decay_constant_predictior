{
 "metadata": {
  "language_info": {
   "codemirror_mode": {
    "name": "ipython",
    "version": 3
   },
   "file_extension": ".py",
   "mimetype": "text/x-python",
   "name": "python",
   "nbconvert_exporter": "python",
   "pygments_lexer": "ipython3",
   "version": "3.8.5-final"
  },
  "orig_nbformat": 2,
  "kernelspec": {
   "name": "python3",
   "display_name": "Python 3.8.5 64-bit",
   "metadata": {
    "interpreter": {
     "hash": "82a93e9466893ddaf289fff1961ea299444cd32d807a5b56a48ff36194f49996"
    }
   }
  }
 },
 "nbformat": 4,
 "nbformat_minor": 2,
 "cells": [
  {
   "cell_type": "code",
   "execution_count": 1,
   "metadata": {},
   "outputs": [],
   "source": [
    "import pandas as pd\n",
    "import numpy as np\n",
    "import matplotlib.pyplot as plt \n",
    "from sklearn.model_selection import RandomizedSearchCV\n",
    "from sklearn.metrics import mean_squared_error\n",
    "import xgboost\n",
    "import math\n"
   ]
  },
  {
   "cell_type": "code",
   "execution_count": 2,
   "metadata": {},
   "outputs": [],
   "source": [
    "#loading the data\n",
    "df = pd.read_csv('https://raw.githubusercontent.com/viveknunia/assignment_intern_repo_vivek_nunia/main/propulsion_plant_decay/propulsion.csv')"
   ]
  },
  {
   "cell_type": "code",
   "execution_count": 6,
   "metadata": {},
   "outputs": [
    {
     "output_type": "execute_result",
     "data": {
      "text/plain": [
       "   Unnamed: 0  Lever position (lp) [ ]  Ship speed (v) [knots]  \\\n",
       "0           0                    9.300                    27.0   \n",
       "1           1                    6.175                    18.0   \n",
       "2           2                    3.144                     9.0   \n",
       "3           3                    3.144                     9.0   \n",
       "4           4                    6.175                    18.0   \n",
       "\n",
       "   Gas Turbine shaft torque (GTT) [kN m]  \\\n",
       "0                              72762.205   \n",
       "1                              29760.552   \n",
       "2                               8375.774   \n",
       "3                               8377.589   \n",
       "4                              29761.091   \n",
       "\n",
       "   Gas Turbine rate of revolutions (GTn) [rpm]  \\\n",
       "0                                     3560.393   \n",
       "1                                     2306.825   \n",
       "2                                     1386.739   \n",
       "3                                     1386.748   \n",
       "4                                     2306.825   \n",
       "\n",
       "   Gas Generator rate of revolutions (GGn) [rpm]  \\\n",
       "0                                       9753.812   \n",
       "1                                       8780.012   \n",
       "2                                       7051.621   \n",
       "3                                       7098.469   \n",
       "4                                       8782.024   \n",
       "\n",
       "   Starboard Propeller Torque (Ts) [kN]  Port Propeller Torque (Tp) [kN]  \\\n",
       "0                               644.806                          644.806   \n",
       "1                               246.011                          246.011   \n",
       "2                                60.318                           60.318   \n",
       "3                                60.339                           60.339   \n",
       "4                               246.021                          246.021   \n",
       "\n",
       "   HP Turbine exit temperature (T48) [C]  \\\n",
       "0                               1086.583   \n",
       "1                                776.921   \n",
       "2                                589.764   \n",
       "3                                570.651   \n",
       "4                                769.855   \n",
       "\n",
       "   GT Compressor inlet air temperature (T1) [C]  \\\n",
       "0                                         288.0   \n",
       "1                                         288.0   \n",
       "2                                         288.0   \n",
       "3                                         288.0   \n",
       "4                                         288.0   \n",
       "\n",
       "   GT Compressor outlet air temperature (T2) [C]  \\\n",
       "0                                        780.304   \n",
       "1                                        665.511   \n",
       "2                                        580.587   \n",
       "3                                        576.565   \n",
       "4                                        663.682   \n",
       "\n",
       "   HP Turbine exit pressure (P48) [bar]  \\\n",
       "0                                 4.523   \n",
       "1                                 2.518   \n",
       "2                                 1.392   \n",
       "3                                 1.390   \n",
       "4                                 2.518   \n",
       "\n",
       "   GT Compressor inlet air pressure (P1) [bar]  \\\n",
       "0                                        0.998   \n",
       "1                                        0.998   \n",
       "2                                        0.998   \n",
       "3                                        0.998   \n",
       "4                                        0.998   \n",
       "\n",
       "   GT Compressor outlet air pressure (P2) [bar]  \\\n",
       "0                                        22.879   \n",
       "1                                        13.438   \n",
       "2                                         7.566   \n",
       "3                                         7.409   \n",
       "4                                        13.374   \n",
       "\n",
       "   Gas Turbine exhaust gas pressure (Pexh) [bar]  \\\n",
       "0                                          1.050   \n",
       "1                                          1.030   \n",
       "2                                          1.020   \n",
       "3                                          1.021   \n",
       "4                                          1.031   \n",
       "\n",
       "   Turbine Injecton Control (TIC) [%]  Fuel flow (mf) [kg/s]  \\\n",
       "0                              90.435                  1.790   \n",
       "1                              34.596                  0.685   \n",
       "2                              12.477                  0.247   \n",
       "3                              11.678                  0.231   \n",
       "4                              34.154                  0.676   \n",
       "\n",
       "   GT Compressor decay state coefficient.  GT Turbine decay state coefficient.  \n",
       "0                                   0.973                                0.978  \n",
       "1                                   0.995                                0.975  \n",
       "2                                   0.980                                0.978  \n",
       "3                                   0.984                                1.000  \n",
       "4                                   0.998                                0.980  "
      ],
      "text/html": "<div>\n<style scoped>\n    .dataframe tbody tr th:only-of-type {\n        vertical-align: middle;\n    }\n\n    .dataframe tbody tr th {\n        vertical-align: top;\n    }\n\n    .dataframe thead th {\n        text-align: right;\n    }\n</style>\n<table border=\"1\" class=\"dataframe\">\n  <thead>\n    <tr style=\"text-align: right;\">\n      <th></th>\n      <th>Unnamed: 0</th>\n      <th>Lever position (lp) [ ]</th>\n      <th>Ship speed (v) [knots]</th>\n      <th>Gas Turbine shaft torque (GTT) [kN m]</th>\n      <th>Gas Turbine rate of revolutions (GTn) [rpm]</th>\n      <th>Gas Generator rate of revolutions (GGn) [rpm]</th>\n      <th>Starboard Propeller Torque (Ts) [kN]</th>\n      <th>Port Propeller Torque (Tp) [kN]</th>\n      <th>HP Turbine exit temperature (T48) [C]</th>\n      <th>GT Compressor inlet air temperature (T1) [C]</th>\n      <th>GT Compressor outlet air temperature (T2) [C]</th>\n      <th>HP Turbine exit pressure (P48) [bar]</th>\n      <th>GT Compressor inlet air pressure (P1) [bar]</th>\n      <th>GT Compressor outlet air pressure (P2) [bar]</th>\n      <th>Gas Turbine exhaust gas pressure (Pexh) [bar]</th>\n      <th>Turbine Injecton Control (TIC) [%]</th>\n      <th>Fuel flow (mf) [kg/s]</th>\n      <th>GT Compressor decay state coefficient.</th>\n      <th>GT Turbine decay state coefficient.</th>\n    </tr>\n  </thead>\n  <tbody>\n    <tr>\n      <th>0</th>\n      <td>0</td>\n      <td>9.300</td>\n      <td>27.0</td>\n      <td>72762.205</td>\n      <td>3560.393</td>\n      <td>9753.812</td>\n      <td>644.806</td>\n      <td>644.806</td>\n      <td>1086.583</td>\n      <td>288.0</td>\n      <td>780.304</td>\n      <td>4.523</td>\n      <td>0.998</td>\n      <td>22.879</td>\n      <td>1.050</td>\n      <td>90.435</td>\n      <td>1.790</td>\n      <td>0.973</td>\n      <td>0.978</td>\n    </tr>\n    <tr>\n      <th>1</th>\n      <td>1</td>\n      <td>6.175</td>\n      <td>18.0</td>\n      <td>29760.552</td>\n      <td>2306.825</td>\n      <td>8780.012</td>\n      <td>246.011</td>\n      <td>246.011</td>\n      <td>776.921</td>\n      <td>288.0</td>\n      <td>665.511</td>\n      <td>2.518</td>\n      <td>0.998</td>\n      <td>13.438</td>\n      <td>1.030</td>\n      <td>34.596</td>\n      <td>0.685</td>\n      <td>0.995</td>\n      <td>0.975</td>\n    </tr>\n    <tr>\n      <th>2</th>\n      <td>2</td>\n      <td>3.144</td>\n      <td>9.0</td>\n      <td>8375.774</td>\n      <td>1386.739</td>\n      <td>7051.621</td>\n      <td>60.318</td>\n      <td>60.318</td>\n      <td>589.764</td>\n      <td>288.0</td>\n      <td>580.587</td>\n      <td>1.392</td>\n      <td>0.998</td>\n      <td>7.566</td>\n      <td>1.020</td>\n      <td>12.477</td>\n      <td>0.247</td>\n      <td>0.980</td>\n      <td>0.978</td>\n    </tr>\n    <tr>\n      <th>3</th>\n      <td>3</td>\n      <td>3.144</td>\n      <td>9.0</td>\n      <td>8377.589</td>\n      <td>1386.748</td>\n      <td>7098.469</td>\n      <td>60.339</td>\n      <td>60.339</td>\n      <td>570.651</td>\n      <td>288.0</td>\n      <td>576.565</td>\n      <td>1.390</td>\n      <td>0.998</td>\n      <td>7.409</td>\n      <td>1.021</td>\n      <td>11.678</td>\n      <td>0.231</td>\n      <td>0.984</td>\n      <td>1.000</td>\n    </tr>\n    <tr>\n      <th>4</th>\n      <td>4</td>\n      <td>6.175</td>\n      <td>18.0</td>\n      <td>29761.091</td>\n      <td>2306.825</td>\n      <td>8782.024</td>\n      <td>246.021</td>\n      <td>246.021</td>\n      <td>769.855</td>\n      <td>288.0</td>\n      <td>663.682</td>\n      <td>2.518</td>\n      <td>0.998</td>\n      <td>13.374</td>\n      <td>1.031</td>\n      <td>34.154</td>\n      <td>0.676</td>\n      <td>0.998</td>\n      <td>0.980</td>\n    </tr>\n  </tbody>\n</table>\n</div>"
     },
     "metadata": {},
     "execution_count": 6
    }
   ],
   "source": [
    "df.head()"
   ]
  },
  {
   "cell_type": "code",
   "execution_count": 12,
   "metadata": {},
   "outputs": [],
   "source": [
    "# model to check the best hyperparameters for xgboost model\n",
    "booster=['gbtree','gblinear']\n",
    "base_score=[0.25,0.5,0.75,1]"
   ]
  },
  {
   "cell_type": "code",
   "execution_count": 13,
   "metadata": {},
   "outputs": [],
   "source": [
    "n_estimators = [100, 500, 900, 1100, 1500]\n",
    "max_depth = [2, 3, 5, 10, 15]\n",
    "booster=['gbtree','gblinear']\n",
    "learning_rate=[0.05,0.1,0.15,0.20]\n",
    "min_child_weight=[1,2,3,4]\n",
    "\n",
    "# Define the grid of hyperparameters to search\n",
    "hyperparameter_grid = {\n",
    "    'n_estimators': n_estimators,\n",
    "    'max_depth':max_depth,\n",
    "    'learning_rate':learning_rate,\n",
    "    'min_child_weight':min_child_weight,\n",
    "    'booster':booster,\n",
    "    'base_score':base_score\n",
    "    }"
   ]
  },
  {
   "cell_type": "code",
   "execution_count": 14,
   "metadata": {},
   "outputs": [],
   "source": [
    "regressor = xgboost.XGBRegressor()"
   ]
  },
  {
   "cell_type": "code",
   "execution_count": 15,
   "metadata": {},
   "outputs": [],
   "source": [
    "random_cv_compressor = RandomizedSearchCV(estimator=regressor,\n",
    "            param_distributions=hyperparameter_grid,\n",
    "            cv=5, n_iter=50,\n",
    "            scoring = 'neg_mean_absolute_error',n_jobs = 4,\n",
    "            verbose = 5, \n",
    "            return_train_score = True,\n",
    "            random_state=42)\n",
    "            \n",
    "random_cv_turbine = RandomizedSearchCV(estimator=regressor,\n",
    "            param_distributions=hyperparameter_grid,\n",
    "            cv=5, n_iter=50,\n",
    "            scoring = 'neg_mean_absolute_error',n_jobs = 4,\n",
    "            verbose = 5, \n",
    "            return_train_score = True,\n",
    "            random_state=42)"
   ]
  },
  {
   "cell_type": "code",
   "execution_count": null,
   "metadata": {},
   "outputs": [],
   "source": []
  },
  {
   "cell_type": "code",
   "execution_count": 7,
   "metadata": {},
   "outputs": [
    {
     "output_type": "execute_result",
     "data": {
      "text/plain": [
       "      Unnamed: 0  Lever position (lp) [ ]  Ship speed (v) [knots]  \\\n",
       "0              0                    9.300                    27.0   \n",
       "1              1                    6.175                    18.0   \n",
       "2              2                    3.144                     9.0   \n",
       "3              3                    3.144                     9.0   \n",
       "4              4                    6.175                    18.0   \n",
       "...          ...                      ...                     ...   \n",
       "7995        7995                    5.140                    15.0   \n",
       "7996        7996                    1.138                     3.0   \n",
       "7997        7997                    1.138                     3.0   \n",
       "7998        7998                    3.144                     9.0   \n",
       "7999        7999                    2.088                     6.0   \n",
       "\n",
       "      Gas Turbine shaft torque (GTT) [kN m]  \\\n",
       "0                                 72762.205   \n",
       "1                                 29760.552   \n",
       "2                                  8375.774   \n",
       "3                                  8377.589   \n",
       "4                                 29761.091   \n",
       "...                                     ...   \n",
       "7995                              21626.849   \n",
       "7996                                651.129   \n",
       "7997                               4821.812   \n",
       "7998                               8377.779   \n",
       "7999                               3204.362   \n",
       "\n",
       "      Gas Turbine rate of revolutions (GTn) [rpm]  \\\n",
       "0                                        3560.393   \n",
       "1                                        2306.825   \n",
       "2                                        1386.739   \n",
       "3                                        1386.748   \n",
       "4                                        2306.825   \n",
       "...                                           ...   \n",
       "7995                                     1924.332   \n",
       "7996                                     1346.818   \n",
       "7997                                     1382.532   \n",
       "7998                                     1386.750   \n",
       "7999                                     1378.662   \n",
       "\n",
       "      Gas Generator rate of revolutions (GGn) [rpm]  \\\n",
       "0                                          9753.812   \n",
       "1                                          8780.012   \n",
       "2                                          7051.621   \n",
       "3                                          7098.469   \n",
       "4                                          8782.024   \n",
       "...                                             ...   \n",
       "7995                                       8472.960   \n",
       "7996                                       6641.606   \n",
       "7997                                       6640.815   \n",
       "7998                                       7099.802   \n",
       "7999                                       6789.663   \n",
       "\n",
       "      Starboard Propeller Torque (Ts) [kN]  Port Propeller Torque (Tp) [kN]  \\\n",
       "0                                  644.806                          644.806   \n",
       "1                                  246.011                          246.011   \n",
       "2                                   60.318                           60.318   \n",
       "3                                   60.339                           60.339   \n",
       "4                                  246.021                          246.021   \n",
       "...                                    ...                              ...   \n",
       "7995                               175.219                          175.219   \n",
       "7996                                 7.373                            7.373   \n",
       "7997                                 9.411                            9.411   \n",
       "7998                                60.339                           60.339   \n",
       "7999                                28.517                           28.517   \n",
       "\n",
       "      HP Turbine exit temperature (T48) [C]  \\\n",
       "0                                  1086.583   \n",
       "1                                   776.921   \n",
       "2                                   589.764   \n",
       "3                                   570.651   \n",
       "4                                   769.855   \n",
       "...                                     ...   \n",
       "7995                                693.097   \n",
       "7996                                472.445   \n",
       "7997                                584.791   \n",
       "7998                                574.702   \n",
       "7999                                507.953   \n",
       "\n",
       "      GT Compressor inlet air temperature (T1) [C]  \\\n",
       "0                                            288.0   \n",
       "1                                            288.0   \n",
       "2                                            288.0   \n",
       "3                                            288.0   \n",
       "4                                            288.0   \n",
       "...                                            ...   \n",
       "7995                                         288.0   \n",
       "7996                                         288.0   \n",
       "7997                                         288.0   \n",
       "7998                                         288.0   \n",
       "7999                                         288.0   \n",
       "\n",
       "      GT Compressor outlet air temperature (T2) [C]  \\\n",
       "0                                           780.304   \n",
       "1                                           665.511   \n",
       "2                                           580.587   \n",
       "3                                           576.565   \n",
       "4                                           663.682   \n",
       "...                                             ...   \n",
       "7995                                        632.533   \n",
       "7996                                        549.286   \n",
       "7997                                        565.619   \n",
       "7998                                        577.834   \n",
       "7999                                        560.156   \n",
       "\n",
       "      HP Turbine exit pressure (P48) [bar]  \\\n",
       "0                                    4.523   \n",
       "1                                    2.518   \n",
       "2                                    1.392   \n",
       "3                                    1.390   \n",
       "4                                    2.518   \n",
       "...                                    ...   \n",
       "7995                                 2.086   \n",
       "7996                                 1.111   \n",
       "7997                                 1.266   \n",
       "7998                                 1.390   \n",
       "7999                                 1.215   \n",
       "\n",
       "      GT Compressor inlet air pressure (P1) [bar]  \\\n",
       "0                                           0.998   \n",
       "1                                           0.998   \n",
       "2                                           0.998   \n",
       "3                                           0.998   \n",
       "4                                           0.998   \n",
       "...                                           ...   \n",
       "7995                                        0.998   \n",
       "7996                                        0.998   \n",
       "7997                                        0.998   \n",
       "7998                                        0.998   \n",
       "7999                                        0.998   \n",
       "\n",
       "      GT Compressor outlet air pressure (P2) [bar]  \\\n",
       "0                                           22.879   \n",
       "1                                           13.438   \n",
       "2                                            7.566   \n",
       "3                                            7.409   \n",
       "4                                           13.374   \n",
       "...                                            ...   \n",
       "7995                                        11.053   \n",
       "7996                                         6.029   \n",
       "7997                                         6.884   \n",
       "7998                                         7.428   \n",
       "7999                                         6.561   \n",
       "\n",
       "      Gas Turbine exhaust gas pressure (Pexh) [bar]  \\\n",
       "0                                             1.050   \n",
       "1                                             1.030   \n",
       "2                                             1.020   \n",
       "3                                             1.021   \n",
       "4                                             1.031   \n",
       "...                                             ...   \n",
       "7995                                          1.027   \n",
       "7996                                          1.019   \n",
       "7997                                          1.019   \n",
       "7998                                          1.021   \n",
       "7999                                          1.020   \n",
       "\n",
       "      Turbine Injecton Control (TIC) [%]  Fuel flow (mf) [kg/s]  \n",
       "0                                 90.435                  1.790  \n",
       "1                                 34.596                  0.685  \n",
       "2                                 12.477                  0.247  \n",
       "3                                 11.678                  0.231  \n",
       "4                                 34.154                  0.676  \n",
       "...                                  ...                    ...  \n",
       "7995                              24.416                  0.483  \n",
       "7996                              10.674                  0.097  \n",
       "7997                               4.630                  0.227  \n",
       "7998                              11.843                  0.234  \n",
       "7999                               2.199                  0.134  \n",
       "\n",
       "[8000 rows x 17 columns]"
      ],
      "text/html": "<div>\n<style scoped>\n    .dataframe tbody tr th:only-of-type {\n        vertical-align: middle;\n    }\n\n    .dataframe tbody tr th {\n        vertical-align: top;\n    }\n\n    .dataframe thead th {\n        text-align: right;\n    }\n</style>\n<table border=\"1\" class=\"dataframe\">\n  <thead>\n    <tr style=\"text-align: right;\">\n      <th></th>\n      <th>Unnamed: 0</th>\n      <th>Lever position (lp) [ ]</th>\n      <th>Ship speed (v) [knots]</th>\n      <th>Gas Turbine shaft torque (GTT) [kN m]</th>\n      <th>Gas Turbine rate of revolutions (GTn) [rpm]</th>\n      <th>Gas Generator rate of revolutions (GGn) [rpm]</th>\n      <th>Starboard Propeller Torque (Ts) [kN]</th>\n      <th>Port Propeller Torque (Tp) [kN]</th>\n      <th>HP Turbine exit temperature (T48) [C]</th>\n      <th>GT Compressor inlet air temperature (T1) [C]</th>\n      <th>GT Compressor outlet air temperature (T2) [C]</th>\n      <th>HP Turbine exit pressure (P48) [bar]</th>\n      <th>GT Compressor inlet air pressure (P1) [bar]</th>\n      <th>GT Compressor outlet air pressure (P2) [bar]</th>\n      <th>Gas Turbine exhaust gas pressure (Pexh) [bar]</th>\n      <th>Turbine Injecton Control (TIC) [%]</th>\n      <th>Fuel flow (mf) [kg/s]</th>\n    </tr>\n  </thead>\n  <tbody>\n    <tr>\n      <th>0</th>\n      <td>0</td>\n      <td>9.300</td>\n      <td>27.0</td>\n      <td>72762.205</td>\n      <td>3560.393</td>\n      <td>9753.812</td>\n      <td>644.806</td>\n      <td>644.806</td>\n      <td>1086.583</td>\n      <td>288.0</td>\n      <td>780.304</td>\n      <td>4.523</td>\n      <td>0.998</td>\n      <td>22.879</td>\n      <td>1.050</td>\n      <td>90.435</td>\n      <td>1.790</td>\n    </tr>\n    <tr>\n      <th>1</th>\n      <td>1</td>\n      <td>6.175</td>\n      <td>18.0</td>\n      <td>29760.552</td>\n      <td>2306.825</td>\n      <td>8780.012</td>\n      <td>246.011</td>\n      <td>246.011</td>\n      <td>776.921</td>\n      <td>288.0</td>\n      <td>665.511</td>\n      <td>2.518</td>\n      <td>0.998</td>\n      <td>13.438</td>\n      <td>1.030</td>\n      <td>34.596</td>\n      <td>0.685</td>\n    </tr>\n    <tr>\n      <th>2</th>\n      <td>2</td>\n      <td>3.144</td>\n      <td>9.0</td>\n      <td>8375.774</td>\n      <td>1386.739</td>\n      <td>7051.621</td>\n      <td>60.318</td>\n      <td>60.318</td>\n      <td>589.764</td>\n      <td>288.0</td>\n      <td>580.587</td>\n      <td>1.392</td>\n      <td>0.998</td>\n      <td>7.566</td>\n      <td>1.020</td>\n      <td>12.477</td>\n      <td>0.247</td>\n    </tr>\n    <tr>\n      <th>3</th>\n      <td>3</td>\n      <td>3.144</td>\n      <td>9.0</td>\n      <td>8377.589</td>\n      <td>1386.748</td>\n      <td>7098.469</td>\n      <td>60.339</td>\n      <td>60.339</td>\n      <td>570.651</td>\n      <td>288.0</td>\n      <td>576.565</td>\n      <td>1.390</td>\n      <td>0.998</td>\n      <td>7.409</td>\n      <td>1.021</td>\n      <td>11.678</td>\n      <td>0.231</td>\n    </tr>\n    <tr>\n      <th>4</th>\n      <td>4</td>\n      <td>6.175</td>\n      <td>18.0</td>\n      <td>29761.091</td>\n      <td>2306.825</td>\n      <td>8782.024</td>\n      <td>246.021</td>\n      <td>246.021</td>\n      <td>769.855</td>\n      <td>288.0</td>\n      <td>663.682</td>\n      <td>2.518</td>\n      <td>0.998</td>\n      <td>13.374</td>\n      <td>1.031</td>\n      <td>34.154</td>\n      <td>0.676</td>\n    </tr>\n    <tr>\n      <th>...</th>\n      <td>...</td>\n      <td>...</td>\n      <td>...</td>\n      <td>...</td>\n      <td>...</td>\n      <td>...</td>\n      <td>...</td>\n      <td>...</td>\n      <td>...</td>\n      <td>...</td>\n      <td>...</td>\n      <td>...</td>\n      <td>...</td>\n      <td>...</td>\n      <td>...</td>\n      <td>...</td>\n      <td>...</td>\n    </tr>\n    <tr>\n      <th>7995</th>\n      <td>7995</td>\n      <td>5.140</td>\n      <td>15.0</td>\n      <td>21626.849</td>\n      <td>1924.332</td>\n      <td>8472.960</td>\n      <td>175.219</td>\n      <td>175.219</td>\n      <td>693.097</td>\n      <td>288.0</td>\n      <td>632.533</td>\n      <td>2.086</td>\n      <td>0.998</td>\n      <td>11.053</td>\n      <td>1.027</td>\n      <td>24.416</td>\n      <td>0.483</td>\n    </tr>\n    <tr>\n      <th>7996</th>\n      <td>7996</td>\n      <td>1.138</td>\n      <td>3.0</td>\n      <td>651.129</td>\n      <td>1346.818</td>\n      <td>6641.606</td>\n      <td>7.373</td>\n      <td>7.373</td>\n      <td>472.445</td>\n      <td>288.0</td>\n      <td>549.286</td>\n      <td>1.111</td>\n      <td>0.998</td>\n      <td>6.029</td>\n      <td>1.019</td>\n      <td>10.674</td>\n      <td>0.097</td>\n    </tr>\n    <tr>\n      <th>7997</th>\n      <td>7997</td>\n      <td>1.138</td>\n      <td>3.0</td>\n      <td>4821.812</td>\n      <td>1382.532</td>\n      <td>6640.815</td>\n      <td>9.411</td>\n      <td>9.411</td>\n      <td>584.791</td>\n      <td>288.0</td>\n      <td>565.619</td>\n      <td>1.266</td>\n      <td>0.998</td>\n      <td>6.884</td>\n      <td>1.019</td>\n      <td>4.630</td>\n      <td>0.227</td>\n    </tr>\n    <tr>\n      <th>7998</th>\n      <td>7998</td>\n      <td>3.144</td>\n      <td>9.0</td>\n      <td>8377.779</td>\n      <td>1386.750</td>\n      <td>7099.802</td>\n      <td>60.339</td>\n      <td>60.339</td>\n      <td>574.702</td>\n      <td>288.0</td>\n      <td>577.834</td>\n      <td>1.390</td>\n      <td>0.998</td>\n      <td>7.428</td>\n      <td>1.021</td>\n      <td>11.843</td>\n      <td>0.234</td>\n    </tr>\n    <tr>\n      <th>7999</th>\n      <td>7999</td>\n      <td>2.088</td>\n      <td>6.0</td>\n      <td>3204.362</td>\n      <td>1378.662</td>\n      <td>6789.663</td>\n      <td>28.517</td>\n      <td>28.517</td>\n      <td>507.953</td>\n      <td>288.0</td>\n      <td>560.156</td>\n      <td>1.215</td>\n      <td>0.998</td>\n      <td>6.561</td>\n      <td>1.020</td>\n      <td>2.199</td>\n      <td>0.134</td>\n    </tr>\n  </tbody>\n</table>\n<p>8000 rows × 17 columns</p>\n</div>"
     },
     "metadata": {},
     "execution_count": 7
    }
   ],
   "source": [
    "#splitting the train and test data\n",
    "df_train = df.iloc[:math.ceil(len(df)*0.8),:]\n",
    "df_test = df.iloc[math.ceil(len(df)*0.8):,:]\n",
    "y_train_compressor = df_train[['GT Compressor decay state coefficient.']]\n",
    "y_test_compressor = df_test[['GT Compressor decay state coefficient.']]\n",
    "y_train_turbine = df_train[['GT Turbine decay state coefficient.']]\n",
    "y_test_turbine = df_test[['GT Turbine decay state coefficient.']]\n",
    "df_train = df_train.drop(['GT Compressor decay state coefficient.','GT Turbine decay state coefficient.'],axis = 1)\n",
    "df_test = df_test.drop(['GT Compressor decay state coefficient.','GT Turbine decay state coefficient.'],axis = 1)\n",
    "df_train"
   ]
  },
  {
   "cell_type": "code",
   "execution_count": 17,
   "metadata": {},
   "outputs": [],
   "source": [
    "#data to numpy\n",
    "df_train = df_train.to_numpy()\n",
    "df_test = df_test.to_numpy()"
   ]
  },
  {
   "cell_type": "code",
   "execution_count": 1,
   "metadata": {},
   "outputs": [],
   "source": [
    "#training for optimal hyperparameters\n",
    "random_cv_turbine.fit(df_train,y_train_compressor.to_numpy())"
   ]
  },
  {
   "cell_type": "code",
   "execution_count": 2,
   "metadata": {},
   "outputs": [],
   "source": [
    "random_cv_compressor.fit(df_train,y_train_compressor.to_numpy())"
   ]
  },
  {
   "cell_type": "code",
   "execution_count": 20,
   "metadata": {},
   "outputs": [
    {
     "output_type": "stream",
     "name": "stdout",
     "text": [
      "XGBRegressor(base_score=0.5, booster='gbtree', colsample_bylevel=1,\n             colsample_bynode=1, colsample_bytree=1, gamma=0, gpu_id=-1,\n             importance_type='gain', interaction_constraints='',\n             learning_rate=0.05, max_delta_step=0, max_depth=15,\n             min_child_weight=4, missing=nan, monotone_constraints='()',\n             n_estimators=900, n_jobs=0, num_parallel_tree=1, random_state=0,\n             reg_alpha=0, reg_lambda=1, scale_pos_weight=1, subsample=1,\n             tree_method='exact', validate_parameters=1, verbosity=None)\nXGBRegressor(base_score=0.5, booster='gbtree', colsample_bylevel=1,\n             colsample_bynode=1, colsample_bytree=1, gamma=0, gpu_id=-1,\n             importance_type='gain', interaction_constraints='',\n             learning_rate=0.05, max_delta_step=0, max_depth=15,\n             min_child_weight=4, missing=nan, monotone_constraints='()',\n             n_estimators=900, n_jobs=0, num_parallel_tree=1, random_state=0,\n             reg_alpha=0, reg_lambda=1, scale_pos_weight=1, subsample=1,\n             tree_method='exact', validate_parameters=1, verbosity=None)\n"
     ]
    }
   ],
   "source": [
    "print(random_cv_compressor.best_estimator_)\n",
    "print(random_cv_turbine.best_estimator_)"
   ]
  },
  {
   "cell_type": "code",
   "execution_count": 27,
   "metadata": {},
   "outputs": [],
   "source": [
    "regressor_compressor = xgboost.XGBRegressor(base_score=1, booster='gbtree', colsample_bylevel=1,\n",
    "             colsample_bynode=1, colsample_bytree=1, gamma=0, gpu_id=-1,\n",
    "             importance_type='gain', interaction_constraints='',\n",
    "             learning_rate=0.15, max_delta_step=0, max_depth=5,\n",
    "             min_child_weight=2, missing=math.nan, monotone_constraints='()',\n",
    "             n_estimators=100, n_jobs=0, num_parallel_tree=1, random_state=0,\n",
    "             reg_alpha=0, reg_lambda=1, scale_pos_weight=1, subsample=1,\n",
    "             tree_method='exact', validate_parameters=1, verbosity=None)\n",
    "\n",
    "regressor_turbine = xgboost.XGBRegressor(base_score=0.5, booster='gbtree', colsample_bylevel=1,\n",
    "             colsample_bynode=1, colsample_bytree=1, gamma=0, gpu_id=-1,\n",
    "             importance_type='gain', interaction_constraints='',\n",
    "             learning_rate=0.05, max_delta_step=0, max_depth=15,\n",
    "             min_child_weight=4, missing=math.nan, monotone_constraints='()',\n",
    "             n_estimators=900, n_jobs=0, num_parallel_tree=1, random_state=0,\n",
    "             reg_alpha=0, reg_lambda=1, scale_pos_weight=1, subsample=1,\n",
    "             tree_method='exact', validate_parameters=1, verbosity=None) "
   ]
  },
  {
   "cell_type": "code",
   "execution_count": 28,
   "metadata": {},
   "outputs": [
    {
     "output_type": "execute_result",
     "data": {
      "text/plain": [
       "XGBRegressor(base_score=0.5, booster='gbtree', colsample_bylevel=1,\n",
       "             colsample_bynode=1, colsample_bytree=1, gamma=0, gpu_id=-1,\n",
       "             importance_type='gain', interaction_constraints='',\n",
       "             learning_rate=0.05, max_delta_step=0, max_depth=15,\n",
       "             min_child_weight=4, missing=nan, monotone_constraints='()',\n",
       "             n_estimators=900, n_jobs=0, num_parallel_tree=1, random_state=0,\n",
       "             reg_alpha=0, reg_lambda=1, scale_pos_weight=1, subsample=1,\n",
       "             tree_method='exact', validate_parameters=1, verbosity=None)"
      ]
     },
     "metadata": {},
     "execution_count": 28
    }
   ],
   "source": [
    "#trainging with optimal hyperparameters\n",
    "regressor_compressor.fit(df_train,y_train_compressor.to_numpy())\n",
    "regressor_turbine.fit(df_train,y_train_turbine.to_numpy())"
   ]
  },
  {
   "cell_type": "code",
   "execution_count": 29,
   "metadata": {},
   "outputs": [],
   "source": [
    "y_pred_compressor = regressor_compressor.predict(df_test) \n",
    "y_pred_turbine = regressor_turbine.predict(df_test) "
   ]
  },
  {
   "cell_type": "code",
   "execution_count": 9,
   "metadata": {},
   "outputs": [],
   "source": [
    "#saving pickel file\n",
    "import pickle\n",
    "filename= 'finalized_model_xgbregressor_compressor.pkl'\n",
    "pickle.dump(regressor_compressor,open(filename,'wb'))\n",
    "\n",
    "filename= 'finalized_model_xgbregressor_turbine.pkl'\n",
    "pickle.dump(regressor_turbine,open(filename,'wb'))"
   ]
  },
  {
   "cell_type": "code",
   "execution_count": 24,
   "metadata": {},
   "outputs": [
    {
     "output_type": "execute_result",
     "data": {
      "text/plain": [
       "array([[0.983],\n",
       "       [0.995],\n",
       "       [0.98 ],\n",
       "       ...,\n",
       "       [0.996],\n",
       "       [0.975],\n",
       "       [0.977]])"
      ]
     },
     "metadata": {},
     "execution_count": 24
    }
   ],
   "source": [
    "y_test_compressor.to_numpy()\n",
    "y_test_turbine.to_numpy()"
   ]
  },
  {
   "cell_type": "code",
   "execution_count": 25,
   "metadata": {},
   "outputs": [
    {
     "output_type": "execute_result",
     "data": {
      "text/plain": [
       "2.863398108391966e-06"
      ]
     },
     "metadata": {},
     "execution_count": 25
    }
   ],
   "source": [
    "mean_squared_error(y_pred_compressor,y_test_compressor.to_numpy())"
   ]
  },
  {
   "cell_type": "code",
   "execution_count": 26,
   "metadata": {},
   "outputs": [
    {
     "output_type": "execute_result",
     "data": {
      "text/plain": [
       "7.144804340992235e-07"
      ]
     },
     "metadata": {},
     "execution_count": 26
    }
   ],
   "source": [
    "mean_squared_error(y_pred_turbine,y_test_turbine.to_numpy())"
   ]
  },
  {
   "cell_type": "code",
   "execution_count": 19,
   "metadata": {
    "tags": []
   },
   "outputs": [],
   "source": [
    "p = df['GT Compressor decay state coefficient.']\n",
    "p = p.iloc[math.ceil(len(df)*0.8):]\n",
    "p1 = df['GT Compressor decay state coefficient.']\n",
    "p1 = p1.iloc[math.ceil(len(df)*0.8):]\n",
    "p = list(p)\n",
    "p1 = list(p1)\n",
    "test1_compressor = pd.DataFrame(p,columns = ['original_compressor_decay_coefficient'])\n",
    "test1_compressor['predicted_compressor_decay_coefficient'] = y_pred_compressor\n",
    "\n",
    "test1_turbine = pd.DataFrame(p1,columns = ['original_turbine_decay_coefficient'])\n",
    "test1_turbine['predicted_turbine_decay_coefficient'] = y_pred_turbine\n",
    "'''test1_compressor.to_csv('C:/Users/91707/OneDrive - LNMIIT/plants_decay_eval/compressor_prediction.csv')\n",
    "test1_turbine.to_csv('C:/Users/91707/OneDrive - LNMIIT/plants_decay_eval/turbine_prediction.csv')'''"
   ]
  },
  {
   "cell_type": "code",
   "execution_count": null,
   "metadata": {},
   "outputs": [],
   "source": []
  }
 ]
}